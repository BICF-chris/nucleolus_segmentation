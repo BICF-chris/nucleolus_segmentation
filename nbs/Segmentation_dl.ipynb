{
 "cells": [
  {
   "cell_type": "code",
   "execution_count": 1,
   "metadata": {},
   "outputs": [],
   "source": [
    "from fastai.vision import *"
   ]
  },
  {
   "cell_type": "code",
   "execution_count": null,
   "metadata": {},
   "outputs": [],
   "source": [
    "class SegmentationProcessor(PreProcessor):\n",
    "    \"`PreProcessor` that stores the classes for segmentation.\"\n",
    "    def __init__(self, ds:ItemList): self.classes = ds.classes\n",
    "    def process(self, ds:ItemList):  ds.classes,ds.c = self.classes,len(self.classes)\n",
    "\n",
    "class SegLabelList(ImageList):\n",
    "    \"`ItemList` for segmentation masks.\"\n",
    "    _processor=SegmentationProcessor\n",
    "    def __init__(self, items:Iterator, classes:Collection=None, ai = None, aj = None, **kwargs):\n",
    "        super().__init__(items, **kwargs)\n",
    "        self.copy_new.append('classes')\n",
    "        self.classes,self.loss_func = classes,CrossEntropyFlat(axis=1)\n",
    "        self.ai = ai\n",
    "        self.aj = aj\n",
    "        \n",
    "    def open(self, fn):        \n",
    "        m = imread(fn)\n",
    "        m = convert_to_float(m)\n",
    "        m = np.expand_dims(m, 0)\n",
    "        return ImageSegment(tensor(m))        \n",
    "    def analyze_pred(self, pred, thresh:float=0.5): return pred.argmax(dim=0)[None]\n",
    "    def reconstruct(self, t:Tensor): return ImageSegment(t)\n",
    "\n",
    "class SegItemList(ImageList):\n",
    "    \"`ItemList` suitable for segmentation tasks.\"\n",
    "    _label_cls,_square_show_res = SegLabelList,False\n",
    "    def open(self, fn):        \n",
    "        x = imread(fn)\n",
    "        x = convert_to_float(x)\n",
    "        t = imread(get_t_fn(fn))\n",
    "        t = convert_to_float(t)\n",
    "        im = torch.stack((tensor(x),tensor(t)), dim = 0)\n",
    "        return Image(tensor(im))\n"
   ]
  },
  {
   "cell_type": "code",
   "execution_count": 1,
   "metadata": {},
   "outputs": [],
   "source": [
    "from skimage.transform import rescale, resize, downscale_local_mean"
   ]
  },
  {
   "cell_type": "code",
   "execution_count": null,
   "metadata": {},
   "outputs": [],
   "source": [
    "class SegItemListSmall(ImageList):\n",
    "    \"`ItemList` suitable for segmentation tasks.\"\n",
    "    _label_cls,_square_show_res = SegLabelList,False\n",
    "    def open(self, fn):        \n",
    "        x = imread(fn)\n",
    "        x = convert_to_float(x)\n",
    "        x = downscale_local_mean(x,(2,2))\n",
    "        t = imread(get_t_fn(fn))\n",
    "        t = convert_to_float(t)\n",
    "        t = downscale_local_mean(t,(2,2))\n",
    "        im = torch.stack((tensor(x),tensor(t)), dim = 0)\n",
    "        return Image(tensor(im))"
   ]
  }
 ],
 "metadata": {
  "kernelspec": {
   "display_name": "Python 3",
   "language": "python",
   "name": "python3"
  },
  "language_info": {
   "codemirror_mode": {
    "name": "ipython",
    "version": 3
   },
   "file_extension": ".py",
   "mimetype": "text/x-python",
   "name": "python",
   "nbconvert_exporter": "python",
   "pygments_lexer": "ipython3",
   "version": "3.6.9"
  }
 },
 "nbformat": 4,
 "nbformat_minor": 2
}
