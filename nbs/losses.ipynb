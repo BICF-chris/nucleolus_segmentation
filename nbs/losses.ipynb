{
 "cells": [
  {
   "cell_type": "code",
   "execution_count": 2,
   "metadata": {},
   "outputs": [],
   "source": [
    "from fastai.vision import *"
   ]
  },
  {
   "cell_type": "code",
   "execution_count": null,
   "metadata": {},
   "outputs": [],
   "source": [
    "def jac(input, target, eps = 1e-09):\n",
    "    if torch.sum(target) == 0:\n",
    "        return input.sum()*0.\n",
    "    i_sig = torch.sigmoid(input)\n",
    "    i_f = target.float()\n",
    "    intersec = torch.sum(i_sig*i_f)\n",
    "    union = torch.sum(i_sig+i_f-i_sig*i_f)\n",
    "    return 1-(intersec/(union+eps))\n",
    "\n",
    "def dic(input, target, eps = 1e-09):\n",
    "    if torch.sum(target) == 0:\n",
    "        return input.sum()*0.\n",
    "    i_sig = torch.sigmoid(input)\n",
    "    i_f = target.float()\n",
    "    intersec = 2*torch.sum(i_sig*i_f)\n",
    "    union = torch.sum(i_sig+i_f)\n",
    "    return 1-((intersec+1)/(union+1))"
   ]
  },
  {
   "cell_type": "code",
   "execution_count": 12,
   "metadata": {},
   "outputs": [],
   "source": [
    "def dic2(input, target):\n",
    "    if torch.sum(target) == 0:\n",
    "        return input.sum()*0.\n",
    "    i_sig = torch.sigmoid(input)\n",
    "    i_f = target.float()\n",
    "    i_sig = i_sig.view(-1)\n",
    "    i_f = i_f.view(-1)\n",
    "    intersec = 2.*torch.sum(i_sig*i_f)\n",
    "    union = i_sig.sum()+i_f.sum()\n",
    "    return 1.-((intersec+1.)/(union+1.))"
   ]
  },
  {
   "cell_type": "code",
   "execution_count": 11,
   "metadata": {},
   "outputs": [],
   "source": [
    "def weighted_dic(input, target):\n",
    "    i_sig = torch.sigmoid(input)    \n",
    "    i_f = target.float()\n",
    "    w = torch.pow(i_f.sum(),2)+1e-09 # not sure about this\n",
    "    intersec = 2*torch.sum(i_sig*i_f)/w\n",
    "    union = torch.sum(i_sig+i_f)/w\n",
    "    return 1.-((intersec+1.)/(union+1.))"
   ]
  },
  {
   "cell_type": "code",
   "execution_count": 9,
   "metadata": {},
   "outputs": [],
   "source": [
    "def bcef(input, target):\n",
    "    target = target.float()\n",
    "    return torch.binary_cross_entropy_with_logits(input, target).mean()"
   ]
  },
  {
   "cell_type": "code",
   "execution_count": 8,
   "metadata": {},
   "outputs": [],
   "source": [
    "class FocalLoss(nn.Module):\n",
    "    def __init__(self, alpha = 0.25, gamma=2.):\n",
    "        super(FocalLoss, self).__init__()\n",
    "        self.alpha = alpha\n",
    "        self.gamma = gamma\n",
    "    def forward(self, inputs, targets):\n",
    "        loss = bcef(inputs, targets) # cross entropy\n",
    "        loss = self.alpha * loss * (1 - torch.exp(-loss)) ** self.gamma # focal loss\n",
    "        return loss"
   ]
  },
  {
   "cell_type": "code",
   "execution_count": null,
   "metadata": {},
   "outputs": [],
   "source": [
    "def fl(input, target):\n",
    "    loss = torch.binary_cross_entropy_with_logits(input, target.float())\n",
    "    loss = loss * (1 - torch.exp(-loss))**.5\n",
    "    return loss.mean()"
   ]
  }
 ],
 "metadata": {
  "kernelspec": {
   "display_name": "Python 3",
   "language": "python",
   "name": "python3"
  },
  "language_info": {
   "codemirror_mode": {
    "name": "ipython",
    "version": 3
   },
   "file_extension": ".py",
   "mimetype": "text/x-python",
   "name": "python",
   "nbconvert_exporter": "python",
   "pygments_lexer": "ipython3",
   "version": "3.6.9"
  }
 },
 "nbformat": 4,
 "nbformat_minor": 4
}
